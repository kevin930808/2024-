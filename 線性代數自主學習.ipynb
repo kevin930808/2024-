{
 "cells": [
  {
   "cell_type": "code",
   "execution_count": 5,
   "id": "5cb69a6c-f755-4a82-84fe-90e6cd2e0f68",
   "metadata": {
    "tags": []
   },
   "outputs": [
    {
     "name": "stdout",
     "output_type": "stream",
     "text": [
      "ML.1------------\n",
      "(a) u x v =  [-11   2   5]\n",
      "(b) u x v =  [ 3  1 -1]\n",
      "(c) u x v =  [-7 -8  3]\n"
     ]
    }
   ],
   "source": [
    "import numpy as np\n",
    "def main(u,v):\n",
    "    return np.cross(u,v)\n",
    "#ML.1 page 264\n",
    "A_u=np.array([1,-2,3])\n",
    "A_v=np.array([1,3,1])\n",
    "ans_A=main(A_u,A_v)\n",
    "print(\"ML.1------------\")\n",
    "print(\"(a) u x v = \",ans_A)\n",
    "B_u=np.array([1,0,3])\n",
    "B_v=np.array([1,-1,2])\n",
    "ans_B=main(B_u,B_v)\n",
    "print(\"(b) u x v = \",ans_B)\n",
    "C_u=np.array([1,-2,-3])\n",
    "C_v=np.array([2,-1,2])\n",
    "ans_C=main(C_u,C_v)\n",
    "print(\"(c) u x v = \",ans_C)"
   ]
  },
  {
   "cell_type": "code",
   "execution_count": 26,
   "id": "59ab3011-7eba-4368-9ac0-0a56d0306f9a",
   "metadata": {
    "tags": []
   },
   "outputs": [
    {
     "name": "stdout",
     "output_type": "stream",
     "text": [
      "array--------\n",
      "[[ 2  4  6]\n",
      " [ 1  0  2]\n",
      " [ 2  3 -1]]\n",
      "det of array = 26\n",
      "array--------\n",
      "[[ 2  4  6]\n",
      " [ 0  0  2]\n",
      " [-5  3 -1]]\n",
      "det of array = -52\n",
      "array--------\n",
      "[[ 2  2  6]\n",
      " [ 1  0  2]\n",
      " [ 2 -5 -1]]\n",
      "det of array = 0\n",
      "array--------\n",
      "[[ 2  4  2]\n",
      " [ 1  0  0]\n",
      " [ 2  3 -5]]\n",
      "det of array = 26\n",
      "x,y,z=-2.00,0.00,1.00\n"
     ]
    }
   ],
   "source": [
    "#page 209 exercise 20\n",
    "def main(n):\n",
    "    array_1=np.array([[2,4,6],[1,0,2],[2,3,-1]])\n",
    "    array_2=np.array([2,0,-5])\n",
    "    new_array=array_1\n",
    "    if (n != -1):\n",
    "        new_array[:,n]=array_2\n",
    "    det=round(np.linalg.det(new_array))\n",
    "    print(\"array--------\")\n",
    "    print(new_array)\n",
    "    print(\"det of array =\",det)\n",
    "    return det\n",
    "det_array=main(-1)\n",
    "det_x=main(0)\n",
    "det_y=main(1)\n",
    "det_z=main(2)\n",
    "x=det_x/det_array\n",
    "y=det_y/det_array\n",
    "z=det_z/det_array\n",
    "print(\"x,y,z=%.2f,%.2f,%.2f\"%(x,y,z))"
   ]
  },
  {
   "cell_type": "code",
   "execution_count": null,
   "id": "1457028a-2be7-45c7-b83c-ab787652b66c",
   "metadata": {},
   "outputs": [],
   "source": []
  },
  {
   "cell_type": "raw",
   "id": "40602104-3457-424c-991d-bd5b126847bd",
   "metadata": {},
   "source": []
  },
  {
   "cell_type": "code",
   "execution_count": null,
   "id": "1d552bd2-0077-48b7-885d-3b56be940848",
   "metadata": {},
   "outputs": [],
   "source": []
  },
  {
   "cell_type": "code",
   "execution_count": null,
   "id": "1bdf1086-d19c-4b4d-bfec-81f367ed6789",
   "metadata": {},
   "outputs": [],
   "source": []
  }
 ],
 "metadata": {
  "kernelspec": {
   "display_name": "Python 3 (ipykernel)",
   "language": "python",
   "name": "python3"
  },
  "language_info": {
   "codemirror_mode": {
    "name": "ipython",
    "version": 3
   },
   "file_extension": ".py",
   "mimetype": "text/x-python",
   "name": "python",
   "nbconvert_exporter": "python",
   "pygments_lexer": "ipython3",
   "version": "3.9.18"
  }
 },
 "nbformat": 4,
 "nbformat_minor": 5
}
